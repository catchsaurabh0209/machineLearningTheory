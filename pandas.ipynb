{
 "cells": [
  {
   "cell_type": "code",
   "execution_count": 22,
   "metadata": {},
   "outputs": [
    {
     "name": "stdout",
     "output_type": "stream",
     "text": [
      "z    1\n",
      "s    1\n",
      "d    1\n",
      "f    1\n",
      "g    1\n",
      "dtype: int64\n",
      "\n",
      "   a  b\n",
      "0  1  2\n",
      "1  2  5\n",
      "2  3  6\n",
      "3  4  5\n",
      "4  5  3\n",
      "\n",
      "a    [1, 2, 3, 4, 5]\n",
      "b    [2, 5, 6, 5, 3]\n",
      "dtype: object\n",
      "<class 'pandas.core.series.Series'>\n"
     ]
    }
   ],
   "source": [
    "import pandas as pd\n",
    "data=[1,1,1,1,1]\n",
    "a=pd.Series(data,index=['z','s','d','f','g']) #index changing. Or else it will start from 0 .\n",
    "print(a)\n",
    "print()\n",
    "data={\"a\":[1,2,3,4,5],\"b\":[2,5,6,5,3]}\n",
    "b=pd.DataFrame(data)#dataframe representation\n",
    "c=pd.Series(data)\n",
    "print(b)\n",
    "print()\n",
    "print(c)#series representation\n",
    "print(type(a))\n"
   ]
  },
  {
   "cell_type": "code",
   "execution_count": 36,
   "metadata": {},
   "outputs": [
    {
     "name": "stdout",
     "output_type": "stream",
     "text": [
      "    fruit  count fruit name\n",
      "0   Mango     34      Mango\n",
      "1  Papaya     65     Papaya\n"
     ]
    }
   ],
   "source": [
    "data={'fruit':[\"Mango\",\"Papaya\"],'count':[34,65]}\n",
    "f=pd.DataFrame(data)\n",
    "f['fruit name']=f['fruit']\n",
    "print(f)"
   ]
  },
  {
   "cell_type": "code",
   "execution_count": 40,
   "metadata": {},
   "outputs": [
    {
     "name": "stdout",
     "output_type": "stream",
     "text": [
      "   a  b\n",
      "0  1  4\n",
      "1  2  6\n",
      "2  3  7\n",
      "3  4  8\n",
      "4  5  9\n",
      "    a    c\n",
      "0  12    3\n",
      "1   2  111\n",
      "2  34  321\n",
      "3  23  432\n",
      "    a    b      c\n",
      "0   1  4.0    NaN\n",
      "1   2  6.0    NaN\n",
      "2   3  7.0    NaN\n",
      "3   4  8.0    NaN\n",
      "4   5  9.0    NaN\n",
      "0  12  NaN    3.0\n",
      "1   2  NaN  111.0\n",
      "2  34  NaN  321.0\n",
      "3  23  NaN  432.0\n"
     ]
    },
    {
     "name": "stderr",
     "output_type": "stream",
     "text": [
      "C:\\Users\\OCEAN\\Anaconda3\\lib\\site-packages\\ipykernel_launcher.py:5: FutureWarning: Sorting because non-concatenation axis is not aligned. A future version\n",
      "of pandas will change to not sort by default.\n",
      "\n",
      "To accept the future behavior, pass 'sort=False'.\n",
      "\n",
      "To retain the current behavior and silence the warning, pass 'sort=True'.\n",
      "\n",
      "  \"\"\"\n"
     ]
    }
   ],
   "source": [
    "df1=pd.DataFrame({\"a\":[1,2,3,4,5],'b':[4,6,7,8,9]})\n",
    "print(df1)\n",
    "df2=pd.DataFrame({\"a\":[12,2,34,23],\"c\":[3,111,321,432]})\n",
    "print(df2)\n",
    "print(pd.concat([df1,df2]))"
   ]
  },
  {
   "cell_type": "code",
   "execution_count": 42,
   "metadata": {},
   "outputs": [
    {
     "name": "stdout",
     "output_type": "stream",
     "text": [
      "    a    b      c\n",
      "0   1  4.0    NaN\n",
      "1   2  6.0    NaN\n",
      "2   3  7.0    NaN\n",
      "3   4  8.0    NaN\n",
      "4   5  9.0    NaN\n",
      "0  12  NaN    3.0\n",
      "1   2  NaN  111.0\n",
      "2  34  NaN  321.0\n",
      "3  23  NaN  432.0\n",
      "\n",
      "\n",
      "   a  b     a      c\n",
      "0  1  4  12.0    3.0\n",
      "1  2  6   2.0  111.0\n",
      "2  3  7  34.0  321.0\n",
      "3  4  8  23.0  432.0\n",
      "4  5  9   NaN    NaN\n"
     ]
    },
    {
     "name": "stderr",
     "output_type": "stream",
     "text": [
      "C:\\Users\\OCEAN\\Anaconda3\\lib\\site-packages\\ipykernel_launcher.py:1: FutureWarning: Sorting because non-concatenation axis is not aligned. A future version\n",
      "of pandas will change to not sort by default.\n",
      "\n",
      "To accept the future behavior, pass 'sort=False'.\n",
      "\n",
      "To retain the current behavior and silence the warning, pass 'sort=True'.\n",
      "\n",
      "  \"\"\"Entry point for launching an IPython kernel.\n"
     ]
    }
   ],
   "source": [
    "print(pd.concat([df1,df2],axis=0))\n",
    "print()\n",
    "print()\n",
    "print(pd.concat([df1,df2],axis=1))"
   ]
  },
  {
   "cell_type": "code",
   "execution_count": 43,
   "metadata": {},
   "outputs": [
    {
     "name": "stdout",
     "output_type": "stream",
     "text": [
      "   a  b    c\n",
      "0  2  6  111\n"
     ]
    }
   ],
   "source": [
    "print(pd.merge(df1,df2))"
   ]
  },
  {
   "cell_type": "code",
   "execution_count": 46,
   "metadata": {},
   "outputs": [
    {
     "name": "stdout",
     "output_type": "stream",
     "text": [
      "    a    b    c\n",
      "0   2  6.0  111\n",
      "1  12  NaN    3\n",
      "2  34  NaN  321\n",
      "3  23  NaN  432\n"
     ]
    }
   ],
   "source": [
    "print(pd.merge(df1,df2,how='right'))"
   ]
  },
  {
   "cell_type": "code",
   "execution_count": null,
   "metadata": {},
   "outputs": [],
   "source": []
  }
 ],
 "metadata": {
  "kernelspec": {
   "display_name": "Python 3",
   "language": "python",
   "name": "python3"
  },
  "language_info": {
   "codemirror_mode": {
    "name": "ipython",
    "version": 3
   },
   "file_extension": ".py",
   "mimetype": "text/x-python",
   "name": "python",
   "nbconvert_exporter": "python",
   "pygments_lexer": "ipython3",
   "version": "3.7.1"
  }
 },
 "nbformat": 4,
 "nbformat_minor": 2
}
